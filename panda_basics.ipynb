{
 "cells": [
  {
   "cell_type": "code",
   "execution_count": 1,
   "metadata": {
    "collapsed": true,
    "pycharm": {
     "name": "#%%\n"
    }
   },
   "outputs": [],
   "source": [
    "import pandas as pd"
   ]
  },
  {
   "cell_type": "code",
   "execution_count": 2,
   "outputs": [],
   "source": [
    "df = pd.read_csv('./datasets/sales_subset.csv', sep=',')"
   ],
   "metadata": {
    "collapsed": false,
    "pycharm": {
     "name": "#%%\n"
    }
   }
  },
  {
   "cell_type": "code",
   "execution_count": 3,
   "outputs": [
    {
     "name": "stdout",
     "output_type": "stream",
     "text": [
      "<class 'pandas.core.frame.DataFrame'>\n",
      "RangeIndex: 10774 entries, 0 to 10773\n",
      "Data columns (total 10 columns):\n",
      " #   Column                Non-Null Count  Dtype  \n",
      "---  ------                --------------  -----  \n",
      " 0   Unnamed: 0            10774 non-null  int64  \n",
      " 1   store                 10774 non-null  int64  \n",
      " 2   type                  10774 non-null  object \n",
      " 3   department            10774 non-null  int64  \n",
      " 4   date                  10774 non-null  object \n",
      " 5   weekly_sales          10774 non-null  float64\n",
      " 6   is_holiday            10774 non-null  bool   \n",
      " 7   temperature_c         10774 non-null  float64\n",
      " 8   fuel_price_usd_per_l  10774 non-null  float64\n",
      " 9   unemployment          10774 non-null  float64\n",
      "dtypes: bool(1), float64(4), int64(3), object(2)\n",
      "memory usage: 768.2+ KB\n"
     ]
    }
   ],
   "source": [
    "df.info()"
   ],
   "metadata": {
    "collapsed": false,
    "pycharm": {
     "name": "#%%\n"
    }
   }
  },
  {
   "cell_type": "code",
   "execution_count": 4,
   "outputs": [
    {
     "data": {
      "text/plain": "   Unnamed: 0  store type  department        date  weekly_sales  is_holiday  \\\n0           0      1    A           1  2010-02-05      24924.50       False   \n1           1      1    A           1  2010-03-05      21827.90       False   \n2           2      1    A           1  2010-04-02      57258.43       False   \n3           3      1    A           1  2010-05-07      17413.94       False   \n4           4      1    A           1  2010-06-04      17558.09       False   \n\n   temperature_c  fuel_price_usd_per_l  unemployment  \n0       5.727778              0.679451         8.106  \n1       8.055556              0.693452         8.106  \n2      16.816667              0.718284         7.808  \n3      22.527778              0.748928         7.808  \n4      27.050000              0.714586         7.808  ",
      "text/html": "<div>\n<style scoped>\n    .dataframe tbody tr th:only-of-type {\n        vertical-align: middle;\n    }\n\n    .dataframe tbody tr th {\n        vertical-align: top;\n    }\n\n    .dataframe thead th {\n        text-align: right;\n    }\n</style>\n<table border=\"1\" class=\"dataframe\">\n  <thead>\n    <tr style=\"text-align: right;\">\n      <th></th>\n      <th>Unnamed: 0</th>\n      <th>store</th>\n      <th>type</th>\n      <th>department</th>\n      <th>date</th>\n      <th>weekly_sales</th>\n      <th>is_holiday</th>\n      <th>temperature_c</th>\n      <th>fuel_price_usd_per_l</th>\n      <th>unemployment</th>\n    </tr>\n  </thead>\n  <tbody>\n    <tr>\n      <th>0</th>\n      <td>0</td>\n      <td>1</td>\n      <td>A</td>\n      <td>1</td>\n      <td>2010-02-05</td>\n      <td>24924.50</td>\n      <td>False</td>\n      <td>5.727778</td>\n      <td>0.679451</td>\n      <td>8.106</td>\n    </tr>\n    <tr>\n      <th>1</th>\n      <td>1</td>\n      <td>1</td>\n      <td>A</td>\n      <td>1</td>\n      <td>2010-03-05</td>\n      <td>21827.90</td>\n      <td>False</td>\n      <td>8.055556</td>\n      <td>0.693452</td>\n      <td>8.106</td>\n    </tr>\n    <tr>\n      <th>2</th>\n      <td>2</td>\n      <td>1</td>\n      <td>A</td>\n      <td>1</td>\n      <td>2010-04-02</td>\n      <td>57258.43</td>\n      <td>False</td>\n      <td>16.816667</td>\n      <td>0.718284</td>\n      <td>7.808</td>\n    </tr>\n    <tr>\n      <th>3</th>\n      <td>3</td>\n      <td>1</td>\n      <td>A</td>\n      <td>1</td>\n      <td>2010-05-07</td>\n      <td>17413.94</td>\n      <td>False</td>\n      <td>22.527778</td>\n      <td>0.748928</td>\n      <td>7.808</td>\n    </tr>\n    <tr>\n      <th>4</th>\n      <td>4</td>\n      <td>1</td>\n      <td>A</td>\n      <td>1</td>\n      <td>2010-06-04</td>\n      <td>17558.09</td>\n      <td>False</td>\n      <td>27.050000</td>\n      <td>0.714586</td>\n      <td>7.808</td>\n    </tr>\n  </tbody>\n</table>\n</div>"
     },
     "execution_count": 4,
     "metadata": {},
     "output_type": "execute_result"
    }
   ],
   "source": [
    "df.head()"
   ],
   "metadata": {
    "collapsed": false,
    "pycharm": {
     "name": "#%%\n"
    }
   }
  },
  {
   "cell_type": "code",
   "execution_count": 5,
   "outputs": [
    {
     "data": {
      "text/plain": "      Unnamed: 0  store type  department        date  weekly_sales  \\\n6201        6201     14    A          92  2010-02-05     293966.05   \n4271        4271     10    B          72  2010-02-05     232558.51   \n4281        4281     10    B          72  2010-12-03     218559.54   \n6202        6202     14    A          92  2010-03-05     214383.07   \n6237        6237     14    A          95  2010-02-05     213042.66   \n...          ...    ...  ...         ...         ...           ...   \n517          517      1    A          47  2010-03-12       -698.00   \n4110        4110     10    B          47  2010-03-05       -798.00   \n4115        4115     10    B          47  2010-10-15       -798.00   \n1422        1422      2    A          47  2010-10-15      -1098.00   \n1420        1420      2    A          47  2010-07-30      -1098.00   \n\n      is_holiday  temperature_c  fuel_price_usd_per_l  unemployment  \n6201       False      -2.605556              0.735455         8.992  \n4271       False      12.411111              0.782478         9.765  \n4281       False      10.650000              0.803348         9.003  \n6202       False       2.850000              0.733606         8.992  \n6237       False      -2.605556              0.735455         8.992  \n...          ...            ...                   ...           ...  \n517        False      14.327778              0.704547         8.106  \n4110       False      13.288889              0.760023         9.765  \n4115       False      24.155556              0.813650         9.003  \n1422       False      18.777778              0.718548         8.163  \n1420       False      28.605556              0.697415         8.099  \n\n[10774 rows x 10 columns]",
      "text/html": "<div>\n<style scoped>\n    .dataframe tbody tr th:only-of-type {\n        vertical-align: middle;\n    }\n\n    .dataframe tbody tr th {\n        vertical-align: top;\n    }\n\n    .dataframe thead th {\n        text-align: right;\n    }\n</style>\n<table border=\"1\" class=\"dataframe\">\n  <thead>\n    <tr style=\"text-align: right;\">\n      <th></th>\n      <th>Unnamed: 0</th>\n      <th>store</th>\n      <th>type</th>\n      <th>department</th>\n      <th>date</th>\n      <th>weekly_sales</th>\n      <th>is_holiday</th>\n      <th>temperature_c</th>\n      <th>fuel_price_usd_per_l</th>\n      <th>unemployment</th>\n    </tr>\n  </thead>\n  <tbody>\n    <tr>\n      <th>6201</th>\n      <td>6201</td>\n      <td>14</td>\n      <td>A</td>\n      <td>92</td>\n      <td>2010-02-05</td>\n      <td>293966.05</td>\n      <td>False</td>\n      <td>-2.605556</td>\n      <td>0.735455</td>\n      <td>8.992</td>\n    </tr>\n    <tr>\n      <th>4271</th>\n      <td>4271</td>\n      <td>10</td>\n      <td>B</td>\n      <td>72</td>\n      <td>2010-02-05</td>\n      <td>232558.51</td>\n      <td>False</td>\n      <td>12.411111</td>\n      <td>0.782478</td>\n      <td>9.765</td>\n    </tr>\n    <tr>\n      <th>4281</th>\n      <td>4281</td>\n      <td>10</td>\n      <td>B</td>\n      <td>72</td>\n      <td>2010-12-03</td>\n      <td>218559.54</td>\n      <td>False</td>\n      <td>10.650000</td>\n      <td>0.803348</td>\n      <td>9.003</td>\n    </tr>\n    <tr>\n      <th>6202</th>\n      <td>6202</td>\n      <td>14</td>\n      <td>A</td>\n      <td>92</td>\n      <td>2010-03-05</td>\n      <td>214383.07</td>\n      <td>False</td>\n      <td>2.850000</td>\n      <td>0.733606</td>\n      <td>8.992</td>\n    </tr>\n    <tr>\n      <th>6237</th>\n      <td>6237</td>\n      <td>14</td>\n      <td>A</td>\n      <td>95</td>\n      <td>2010-02-05</td>\n      <td>213042.66</td>\n      <td>False</td>\n      <td>-2.605556</td>\n      <td>0.735455</td>\n      <td>8.992</td>\n    </tr>\n    <tr>\n      <th>...</th>\n      <td>...</td>\n      <td>...</td>\n      <td>...</td>\n      <td>...</td>\n      <td>...</td>\n      <td>...</td>\n      <td>...</td>\n      <td>...</td>\n      <td>...</td>\n      <td>...</td>\n    </tr>\n    <tr>\n      <th>517</th>\n      <td>517</td>\n      <td>1</td>\n      <td>A</td>\n      <td>47</td>\n      <td>2010-03-12</td>\n      <td>-698.00</td>\n      <td>False</td>\n      <td>14.327778</td>\n      <td>0.704547</td>\n      <td>8.106</td>\n    </tr>\n    <tr>\n      <th>4110</th>\n      <td>4110</td>\n      <td>10</td>\n      <td>B</td>\n      <td>47</td>\n      <td>2010-03-05</td>\n      <td>-798.00</td>\n      <td>False</td>\n      <td>13.288889</td>\n      <td>0.760023</td>\n      <td>9.765</td>\n    </tr>\n    <tr>\n      <th>4115</th>\n      <td>4115</td>\n      <td>10</td>\n      <td>B</td>\n      <td>47</td>\n      <td>2010-10-15</td>\n      <td>-798.00</td>\n      <td>False</td>\n      <td>24.155556</td>\n      <td>0.813650</td>\n      <td>9.003</td>\n    </tr>\n    <tr>\n      <th>1422</th>\n      <td>1422</td>\n      <td>2</td>\n      <td>A</td>\n      <td>47</td>\n      <td>2010-10-15</td>\n      <td>-1098.00</td>\n      <td>False</td>\n      <td>18.777778</td>\n      <td>0.718548</td>\n      <td>8.163</td>\n    </tr>\n    <tr>\n      <th>1420</th>\n      <td>1420</td>\n      <td>2</td>\n      <td>A</td>\n      <td>47</td>\n      <td>2010-07-30</td>\n      <td>-1098.00</td>\n      <td>False</td>\n      <td>28.605556</td>\n      <td>0.697415</td>\n      <td>8.099</td>\n    </tr>\n  </tbody>\n</table>\n<p>10774 rows × 10 columns</p>\n</div>"
     },
     "execution_count": 5,
     "metadata": {},
     "output_type": "execute_result"
    }
   ],
   "source": [
    "df.sort_values(\"weekly_sales\", ascending=False)"
   ],
   "metadata": {
    "collapsed": false,
    "pycharm": {
     "name": "#%%\n"
    }
   }
  },
  {
   "cell_type": "code",
   "execution_count": 6,
   "outputs": [
    {
     "data": {
      "text/plain": "   Unnamed: 0  store type  department        date  weekly_sales  is_holiday  \\\n0           0      1    A           1  2010-02-05      24924.50       False   \n1           1      1    A           1  2010-03-05      21827.90       False   \n2           2      1    A           1  2010-04-02      57258.43       False   \n3           3      1    A           1  2010-05-07      17413.94       False   \n4           4      1    A           1  2010-06-04      17558.09       False   \n\n   temperature_c  fuel_price_usd_per_l  unemployment  fuel_price_cup  \n0       5.727778              0.679451         8.106       81.534101  \n1       8.055556              0.693452         8.106       83.214236  \n2      16.816667              0.718284         7.808       86.194098  \n3      22.527778              0.748928         7.808       89.871375  \n4      27.050000              0.714586         7.808       85.750289  ",
      "text/html": "<div>\n<style scoped>\n    .dataframe tbody tr th:only-of-type {\n        vertical-align: middle;\n    }\n\n    .dataframe tbody tr th {\n        vertical-align: top;\n    }\n\n    .dataframe thead th {\n        text-align: right;\n    }\n</style>\n<table border=\"1\" class=\"dataframe\">\n  <thead>\n    <tr style=\"text-align: right;\">\n      <th></th>\n      <th>Unnamed: 0</th>\n      <th>store</th>\n      <th>type</th>\n      <th>department</th>\n      <th>date</th>\n      <th>weekly_sales</th>\n      <th>is_holiday</th>\n      <th>temperature_c</th>\n      <th>fuel_price_usd_per_l</th>\n      <th>unemployment</th>\n      <th>fuel_price_cup</th>\n    </tr>\n  </thead>\n  <tbody>\n    <tr>\n      <th>0</th>\n      <td>0</td>\n      <td>1</td>\n      <td>A</td>\n      <td>1</td>\n      <td>2010-02-05</td>\n      <td>24924.50</td>\n      <td>False</td>\n      <td>5.727778</td>\n      <td>0.679451</td>\n      <td>8.106</td>\n      <td>81.534101</td>\n    </tr>\n    <tr>\n      <th>1</th>\n      <td>1</td>\n      <td>1</td>\n      <td>A</td>\n      <td>1</td>\n      <td>2010-03-05</td>\n      <td>21827.90</td>\n      <td>False</td>\n      <td>8.055556</td>\n      <td>0.693452</td>\n      <td>8.106</td>\n      <td>83.214236</td>\n    </tr>\n    <tr>\n      <th>2</th>\n      <td>2</td>\n      <td>1</td>\n      <td>A</td>\n      <td>1</td>\n      <td>2010-04-02</td>\n      <td>57258.43</td>\n      <td>False</td>\n      <td>16.816667</td>\n      <td>0.718284</td>\n      <td>7.808</td>\n      <td>86.194098</td>\n    </tr>\n    <tr>\n      <th>3</th>\n      <td>3</td>\n      <td>1</td>\n      <td>A</td>\n      <td>1</td>\n      <td>2010-05-07</td>\n      <td>17413.94</td>\n      <td>False</td>\n      <td>22.527778</td>\n      <td>0.748928</td>\n      <td>7.808</td>\n      <td>89.871375</td>\n    </tr>\n    <tr>\n      <th>4</th>\n      <td>4</td>\n      <td>1</td>\n      <td>A</td>\n      <td>1</td>\n      <td>2010-06-04</td>\n      <td>17558.09</td>\n      <td>False</td>\n      <td>27.050000</td>\n      <td>0.714586</td>\n      <td>7.808</td>\n      <td>85.750289</td>\n    </tr>\n  </tbody>\n</table>\n</div>"
     },
     "execution_count": 6,
     "metadata": {},
     "output_type": "execute_result"
    }
   ],
   "source": [
    "# This transformations must be executed in the original df, not on a subset, at least not this way.\n",
    "df['fuel_price_cup'] = df['fuel_price_usd_per_l'] * 120\n",
    "df.head()"
   ],
   "metadata": {
    "collapsed": false,
    "pycharm": {
     "name": "#%%\n"
    }
   }
  },
  {
   "cell_type": "code",
   "execution_count": 7,
   "outputs": [
    {
     "data": {
      "text/plain": "      Unnamed: 0  store type  department        date  weekly_sales  \\\n4271        4271     10    B          72  2010-02-05     232558.51   \n4281        4281     10    B          72  2010-12-03     218559.54   \n6201        6201     14    A          92  2010-02-05     293966.05   \n6202        6202     14    A          92  2010-03-05     214383.07   \n6210        6210     14    A          92  2010-11-05     206935.29   \n6237        6237     14    A          95  2010-02-05     213042.66   \n\n      is_holiday  temperature_c  fuel_price_usd_per_l  unemployment  \\\n4271       False      12.411111              0.782478         9.765   \n4281       False      10.650000              0.803348         9.003   \n6201       False      -2.605556              0.735455         8.992   \n6202       False       2.850000              0.733606         8.992   \n6210       False       7.583333              0.770590         8.724   \n6237       False      -2.605556              0.735455         8.992   \n\n      fuel_price_cup  \n4271       93.897359  \n4281       96.401711  \n6201       88.254641  \n6202       88.032736  \n6210       92.470829  \n6237       88.254641  ",
      "text/html": "<div>\n<style scoped>\n    .dataframe tbody tr th:only-of-type {\n        vertical-align: middle;\n    }\n\n    .dataframe tbody tr th {\n        vertical-align: top;\n    }\n\n    .dataframe thead th {\n        text-align: right;\n    }\n</style>\n<table border=\"1\" class=\"dataframe\">\n  <thead>\n    <tr style=\"text-align: right;\">\n      <th></th>\n      <th>Unnamed: 0</th>\n      <th>store</th>\n      <th>type</th>\n      <th>department</th>\n      <th>date</th>\n      <th>weekly_sales</th>\n      <th>is_holiday</th>\n      <th>temperature_c</th>\n      <th>fuel_price_usd_per_l</th>\n      <th>unemployment</th>\n      <th>fuel_price_cup</th>\n    </tr>\n  </thead>\n  <tbody>\n    <tr>\n      <th>4271</th>\n      <td>4271</td>\n      <td>10</td>\n      <td>B</td>\n      <td>72</td>\n      <td>2010-02-05</td>\n      <td>232558.51</td>\n      <td>False</td>\n      <td>12.411111</td>\n      <td>0.782478</td>\n      <td>9.765</td>\n      <td>93.897359</td>\n    </tr>\n    <tr>\n      <th>4281</th>\n      <td>4281</td>\n      <td>10</td>\n      <td>B</td>\n      <td>72</td>\n      <td>2010-12-03</td>\n      <td>218559.54</td>\n      <td>False</td>\n      <td>10.650000</td>\n      <td>0.803348</td>\n      <td>9.003</td>\n      <td>96.401711</td>\n    </tr>\n    <tr>\n      <th>6201</th>\n      <td>6201</td>\n      <td>14</td>\n      <td>A</td>\n      <td>92</td>\n      <td>2010-02-05</td>\n      <td>293966.05</td>\n      <td>False</td>\n      <td>-2.605556</td>\n      <td>0.735455</td>\n      <td>8.992</td>\n      <td>88.254641</td>\n    </tr>\n    <tr>\n      <th>6202</th>\n      <td>6202</td>\n      <td>14</td>\n      <td>A</td>\n      <td>92</td>\n      <td>2010-03-05</td>\n      <td>214383.07</td>\n      <td>False</td>\n      <td>2.850000</td>\n      <td>0.733606</td>\n      <td>8.992</td>\n      <td>88.032736</td>\n    </tr>\n    <tr>\n      <th>6210</th>\n      <td>6210</td>\n      <td>14</td>\n      <td>A</td>\n      <td>92</td>\n      <td>2010-11-05</td>\n      <td>206935.29</td>\n      <td>False</td>\n      <td>7.583333</td>\n      <td>0.770590</td>\n      <td>8.724</td>\n      <td>92.470829</td>\n    </tr>\n    <tr>\n      <th>6237</th>\n      <td>6237</td>\n      <td>14</td>\n      <td>A</td>\n      <td>95</td>\n      <td>2010-02-05</td>\n      <td>213042.66</td>\n      <td>False</td>\n      <td>-2.605556</td>\n      <td>0.735455</td>\n      <td>8.992</td>\n      <td>88.254641</td>\n    </tr>\n  </tbody>\n</table>\n</div>"
     },
     "execution_count": 7,
     "metadata": {},
     "output_type": "execute_result"
    }
   ],
   "source": [
    "# Getting a subset based on individuals and state_pop values\n",
    "df_filtered = df[ (df['weekly_sales'] > 206930.00) & (df['fuel_price_usd_per_l'] > 0.70) ]\n",
    "df_filtered"
   ],
   "metadata": {
    "collapsed": false,
    "pycharm": {
     "name": "#%%\n"
    }
   }
  },
  {
   "cell_type": "code",
   "execution_count": 8,
   "outputs": [
    {
     "data": {
      "text/plain": "weekly_sales            229907.520000\nfuel_price_usd_per_l         0.760155\ndtype: float64"
     },
     "execution_count": 8,
     "metadata": {},
     "output_type": "execute_result"
    }
   ],
   "source": [
    "# df['weekly_sales'].max()\n",
    "# df['weekly_sales'].min()\n",
    "df_filtered[['weekly_sales', 'fuel_price_usd_per_l']].mean()"
   ],
   "metadata": {
    "collapsed": false,
    "pycharm": {
     "name": "#%%\n"
    }
   }
  },
  {
   "cell_type": "code",
   "execution_count": 9,
   "outputs": [
    {
     "data": {
      "text/plain": "3843.9501485056608"
     },
     "execution_count": 9,
     "metadata": {},
     "output_type": "execute_result"
    }
   ],
   "source": [
    "def added(column):\n",
    "    return column.mean() - 20000\n",
    "\n",
    "df['weekly_sales'].agg(added)"
   ],
   "metadata": {
    "collapsed": false,
    "pycharm": {
     "name": "#%%\n"
    }
   }
  },
  {
   "cell_type": "code",
   "execution_count": 20,
   "outputs": [
    {
     "data": {
      "text/plain": "count    10774.000000\nmean        15.441897\nstd         11.534511\nmin          1.000000\n25%          4.000000\n50%         13.000000\n75%         20.000000\nmax         39.000000\nName: store, dtype: float64"
     },
     "execution_count": 20,
     "metadata": {},
     "output_type": "execute_result"
    }
   ],
   "source": [
    "df[\"store\"].describe()"
   ],
   "metadata": {
    "collapsed": false,
    "pycharm": {
     "name": "#%%\n"
    }
   }
  },
  {
   "cell_type": "code",
   "execution_count": 18,
   "outputs": [
    {
     "data": {
      "text/plain": "13    79\n19    79\n2     78\n4     78\n20    78\n27    78\n1     77\n6     77\n10    77\n14    77\n31    76\n39    75\nName: store, dtype: int64"
     },
     "execution_count": 18,
     "metadata": {},
     "output_type": "execute_result"
    }
   ],
   "source": [
    "# Removing duplicates\n",
    "unique_stores_df = df.drop_duplicates(subset=[\"store\", \"department\"])\n",
    "# print(unique_stores_df)\n",
    "unique_stores_df[\"store\"].value_counts(sort=True)"
   ],
   "metadata": {
    "collapsed": false,
    "pycharm": {
     "name": "#%%\n"
    }
   }
  },
  {
   "cell_type": "code",
   "execution_count": null,
   "outputs": [],
   "source": [],
   "metadata": {
    "collapsed": false,
    "pycharm": {
     "name": "#%%\n"
    }
   }
  }
 ],
 "metadata": {
  "kernelspec": {
   "display_name": "Python 3",
   "language": "python",
   "name": "python3"
  },
  "language_info": {
   "codemirror_mode": {
    "name": "ipython",
    "version": 2
   },
   "file_extension": ".py",
   "mimetype": "text/x-python",
   "name": "python",
   "nbconvert_exporter": "python",
   "pygments_lexer": "ipython2",
   "version": "2.7.6"
  }
 },
 "nbformat": 4,
 "nbformat_minor": 0
}